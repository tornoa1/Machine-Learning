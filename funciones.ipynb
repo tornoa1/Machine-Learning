{
 "cells": [
  {
   "cell_type": "code",
   "execution_count": null,
   "metadata": {},
   "outputs": [],
   "source": [
    "import pandas as pd\n",
    "\n",
    "data = pd.read_csv(\"wine.csv\")"
   ]
  },
  {
   "cell_type": "code",
   "execution_count": null,
   "metadata": {},
   "outputs": [],
   "source": [
    "data.columns.to_list()"
   ]
  },
  {
   "cell_type": "code",
   "execution_count": null,
   "metadata": {},
   "outputs": [],
   "source": [
    "data.dtypes"
   ]
  },
  {
   "cell_type": "code",
   "execution_count": null,
   "metadata": {},
   "outputs": [],
   "source": [
    "data[[\"price\", \"points\", \"variety\"]]"
   ]
  },
  {
   "cell_type": "code",
   "execution_count": 18,
   "metadata": {},
   "outputs": [],
   "source": [
    "filtros = (data['price']>150) & (data['country'] == 'Italy')  & (data['points'] < 90)\n",
    "vinos_italianos_caros_buenos = data[filtros]"
   ]
  },
  {
   "cell_type": "code",
   "execution_count": 20,
   "metadata": {},
   "outputs": [],
   "source": [
    "vinos_italianos_caros_buenos.to_csv(\"vinositalianos.csv\")"
   ]
  },
  {
   "cell_type": "code",
   "execution_count": 25,
   "metadata": {},
   "outputs": [],
   "source": [
    "## cuántos vinos americanos con precio mayor a 500 y puntaje mayor a 90\n",
    "filtros = (data['price']>500) & (data['country'] == 'US')  & (data['points'] > 90)\n",
    "vinos_americanos = data[filtros]\n",
    "respuesta = vinos_americanos.shape[0]"
   ]
  },
  {
   "cell_type": "code",
   "execution_count": null,
   "metadata": {},
   "outputs": [],
   "source": [
    "data['country'].unique()"
   ]
  },
  {
   "cell_type": "code",
   "execution_count": 31,
   "metadata": {},
   "outputs": [],
   "source": [
    "# qué variedades de vino tiene Morocco en este dataset\n",
    "filtro_marruecos = (data['country'] == 'Morocco')\n",
    "data_marruecos = data[filtro_marruecos]\n",
    "tipos_vino_marruecos = data_marruecos['variety'].unique().tolist()"
   ]
  },
  {
   "cell_type": "code",
   "execution_count": 38,
   "metadata": {},
   "outputs": [
    {
     "data": {
      "text/plain": [
       "winery\n",
       "Ouled Thaleb      9\n",
       "Bernard Magrez    2\n",
       "Name: count, dtype: int64"
      ]
     },
     "execution_count": 38,
     "metadata": {},
     "output_type": "execute_result"
    }
   ],
   "source": [
    "#for vino in tipos_vino_marruecos:\n",
    "#    print(f\"Hay xx {vino}\")\n",
    "data_marruecos['winery'].value_counts()"
   ]
  },
  {
   "cell_type": "code",
   "execution_count": 40,
   "metadata": {},
   "outputs": [
    {
     "data": {
      "text/plain": [
       "count    11.000000\n",
       "mean     88.636364\n",
       "std       2.157440\n",
       "min      85.000000\n",
       "25%      87.500000\n",
       "50%      89.000000\n",
       "75%      89.500000\n",
       "max      93.000000\n",
       "Name: points, dtype: float64"
      ]
     },
     "execution_count": 40,
     "metadata": {},
     "output_type": "execute_result"
    }
   ],
   "source": [
    "data_marruecos['points'].describe()"
   ]
  },
  {
   "cell_type": "code",
   "execution_count": 51,
   "metadata": {},
   "outputs": [
    {
     "data": {
      "text/plain": [
       "np.float64(89.0)"
      ]
     },
     "execution_count": 51,
     "metadata": {},
     "output_type": "execute_result"
    }
   ],
   "source": [
    "#data['price'].describe()\n",
    "#data_marruecos['points'].sum()\n",
    "#data_marruecos['points'].mean()\n",
    "#data_marruecos['points'].max()\n",
    "#data_marruecos['points'].min()\n",
    "#data_marruecos['points'].count()\n",
    "data_marruecos['points'].quantile(0.7)"
   ]
  },
  {
   "cell_type": "code",
   "execution_count": null,
   "metadata": {},
   "outputs": [],
   "source": [
    "data['soles'] = data['price']*3.74 "
   ]
  },
  {
   "cell_type": "code",
   "execution_count": 53,
   "metadata": {},
   "outputs": [
    {
     "data": {
      "text/plain": [
       "0               ___White Blend____\n",
       "1            ___Portuguese Red____\n",
       "2                ___Pinot Gris____\n",
       "3                  ___Riesling____\n",
       "4                ___Pinot Noir____\n",
       "                   ...            \n",
       "65494            ___Chardonnay____\n",
       "65495    ___Cabernet Sauvignon____\n",
       "65496       ___Sauvignon Blanc____\n",
       "65497             ___Primitivo____\n",
       "65498                ___Sherry____\n",
       "Name: variety, Length: 65499, dtype: object"
      ]
     },
     "execution_count": 53,
     "metadata": {},
     "output_type": "execute_result"
    }
   ],
   "source": [
    "data['variety'].map(lambda c: f\"___{c}____\")"
   ]
  },
  {
   "cell_type": "code",
   "execution_count": 55,
   "metadata": {},
   "outputs": [],
   "source": [
    "def peruano_ono(row):\n",
    "    if row['country'] == \"Peru\":\n",
    "        return \"Peruano\"\n",
    "    else:\n",
    "        return \"Extranjero\"\n",
    "\n",
    "data['origen'] = data.apply(peruano_ono, axis='columns')"
   ]
  },
  {
   "cell_type": "code",
   "execution_count": 60,
   "metadata": {},
   "outputs": [
    {
     "data": {
      "text/html": [
       "<div>\n",
       "<style scoped>\n",
       "    .dataframe tbody tr th:only-of-type {\n",
       "        vertical-align: middle;\n",
       "    }\n",
       "\n",
       "    .dataframe tbody tr th {\n",
       "        vertical-align: top;\n",
       "    }\n",
       "\n",
       "    .dataframe thead th {\n",
       "        text-align: right;\n",
       "    }\n",
       "</style>\n",
       "<table border=\"1\" class=\"dataframe\">\n",
       "  <thead>\n",
       "    <tr style=\"text-align: right;\">\n",
       "      <th></th>\n",
       "      <th>designation</th>\n",
       "      <th>origen</th>\n",
       "    </tr>\n",
       "  </thead>\n",
       "  <tbody>\n",
       "    <tr>\n",
       "      <th>6565</th>\n",
       "      <td>Valle del Sol</td>\n",
       "      <td>Peruano</td>\n",
       "    </tr>\n",
       "    <tr>\n",
       "      <th>13090</th>\n",
       "      <td>Halcón de la Viña</td>\n",
       "      <td>Peruano</td>\n",
       "    </tr>\n",
       "    <tr>\n",
       "      <th>14727</th>\n",
       "      <td>Gran Blanco</td>\n",
       "      <td>Peruano</td>\n",
       "    </tr>\n",
       "    <tr>\n",
       "      <th>14732</th>\n",
       "      <td>Gran Tinto</td>\n",
       "      <td>Peruano</td>\n",
       "    </tr>\n",
       "    <tr>\n",
       "      <th>23537</th>\n",
       "      <td>Valle del Sol Reserva</td>\n",
       "      <td>Peruano</td>\n",
       "    </tr>\n",
       "    <tr>\n",
       "      <th>37948</th>\n",
       "      <td>Valle del Sol No 1 Gran Reserva</td>\n",
       "      <td>Peruano</td>\n",
       "    </tr>\n",
       "    <tr>\n",
       "      <th>63521</th>\n",
       "      <td>Sinfonía Tannat-Malbec-Petit Verdot</td>\n",
       "      <td>Peruano</td>\n",
       "    </tr>\n",
       "    <tr>\n",
       "      <th>64672</th>\n",
       "      <td>Semi-Seco Blanco</td>\n",
       "      <td>Peruano</td>\n",
       "    </tr>\n",
       "  </tbody>\n",
       "</table>\n",
       "</div>"
      ],
      "text/plain": [
       "                               designation   origen\n",
       "6565                         Valle del Sol  Peruano\n",
       "13090                    Halcón de la Viña  Peruano\n",
       "14727                          Gran Blanco  Peruano\n",
       "14732                           Gran Tinto  Peruano\n",
       "23537                Valle del Sol Reserva  Peruano\n",
       "37948      Valle del Sol No 1 Gran Reserva  Peruano\n",
       "63521  Sinfonía Tannat-Malbec-Petit Verdot  Peruano\n",
       "64672                     Semi-Seco Blanco  Peruano"
      ]
     },
     "execution_count": 60,
     "metadata": {},
     "output_type": "execute_result"
    }
   ],
   "source": [
    "filtro_pe = data['country'] == 'Peru'\n",
    "data[['designation','origen']][filtro_pe]"
   ]
  }
 ],
 "metadata": {
  "kernelspec": {
   "display_name": "proyecto-edgar",
   "language": "python",
   "name": "python3"
  },
  "language_info": {
   "codemirror_mode": {
    "name": "ipython",
    "version": 3
   },
   "file_extension": ".py",
   "mimetype": "text/x-python",
   "name": "python",
   "nbconvert_exporter": "python",
   "pygments_lexer": "ipython3",
   "version": "3.12.9"
  }
 },
 "nbformat": 4,
 "nbformat_minor": 2
}
